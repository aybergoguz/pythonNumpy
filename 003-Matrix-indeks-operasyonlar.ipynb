{
 "cells": [
  {
   "cell_type": "code",
   "execution_count": 3,
   "id": "345583fd",
   "metadata": {},
   "outputs": [],
   "source": [
    "import numpy as np"
   ]
  },
  {
   "cell_type": "code",
   "execution_count": 4,
   "id": "59408676",
   "metadata": {},
   "outputs": [],
   "source": [
    "benimListem=[[10,20,30],[40,50,60],[70,80,90]]"
   ]
  },
  {
   "cell_type": "code",
   "execution_count": 18,
   "id": "fb4b7aaa",
   "metadata": {},
   "outputs": [
    {
     "data": {
      "text/plain": [
       "[[10, 20, 30], [40, 50, 60], [70, 80, 90]]"
      ]
     },
     "execution_count": 18,
     "metadata": {},
     "output_type": "execute_result"
    }
   ],
   "source": [
    "benimListem"
   ]
  },
  {
   "cell_type": "code",
   "execution_count": 19,
   "id": "39c97141",
   "metadata": {},
   "outputs": [],
   "source": [
    "benimMatrixDizim=np.array(benimListem)"
   ]
  },
  {
   "cell_type": "code",
   "execution_count": 20,
   "id": "e176adcb",
   "metadata": {},
   "outputs": [
    {
     "data": {
      "text/plain": [
       "array([[10, 20, 30],\n",
       "       [40, 50, 60],\n",
       "       [70, 80, 90]])"
      ]
     },
     "execution_count": 20,
     "metadata": {},
     "output_type": "execute_result"
    }
   ],
   "source": [
    "benimMatrixDizim"
   ]
  },
  {
   "cell_type": "code",
   "execution_count": 21,
   "id": "47afb1ab",
   "metadata": {},
   "outputs": [
    {
     "data": {
      "text/plain": [
       "array([10, 20, 30])"
      ]
     },
     "execution_count": 21,
     "metadata": {},
     "output_type": "execute_result"
    }
   ],
   "source": [
    "benimMatrixDizim[0]"
   ]
  },
  {
   "cell_type": "code",
   "execution_count": 22,
   "id": "a1308032",
   "metadata": {},
   "outputs": [
    {
     "data": {
      "text/plain": [
       "60"
      ]
     },
     "execution_count": 22,
     "metadata": {},
     "output_type": "execute_result"
    }
   ],
   "source": [
    "benimMatrixDizim[1][2]"
   ]
  },
  {
   "cell_type": "code",
   "execution_count": 23,
   "id": "2fd5de0b",
   "metadata": {},
   "outputs": [
    {
     "data": {
      "text/plain": [
       "array([60, 90])"
      ]
     },
     "execution_count": 23,
     "metadata": {},
     "output_type": "execute_result"
    }
   ],
   "source": [
    "benimMatrixDizim[1:,2]"
   ]
  },
  {
   "cell_type": "code",
   "execution_count": 25,
   "id": "40280de4",
   "metadata": {},
   "outputs": [
    {
     "data": {
      "text/plain": [
       "array([50, 60])"
      ]
     },
     "execution_count": 25,
     "metadata": {},
     "output_type": "execute_result"
    }
   ],
   "source": [
    "benimMatrixDizim[1,1:]"
   ]
  },
  {
   "cell_type": "code",
   "execution_count": 26,
   "id": "770cea00",
   "metadata": {},
   "outputs": [],
   "source": [
    "yeniListem=[[1,2,3,4,5],[6,7,8,9,10],[11,12,13,14,15],[16,17,18,19,20]]"
   ]
  },
  {
   "cell_type": "code",
   "execution_count": 27,
   "id": "4143fbed",
   "metadata": {},
   "outputs": [
    {
     "data": {
      "text/plain": [
       "[[1, 2, 3, 4, 5], [6, 7, 8, 9, 10], [11, 12, 13, 14, 15], [16, 17, 18, 19, 20]]"
      ]
     },
     "execution_count": 27,
     "metadata": {},
     "output_type": "execute_result"
    }
   ],
   "source": [
    "yeniListem"
   ]
  },
  {
   "cell_type": "code",
   "execution_count": 30,
   "id": "9bb3f81e",
   "metadata": {},
   "outputs": [],
   "source": [
    "yeniMatrix=np.array(yeniListem)"
   ]
  },
  {
   "cell_type": "code",
   "execution_count": 31,
   "id": "3eb32630",
   "metadata": {},
   "outputs": [
    {
     "data": {
      "text/plain": [
       "array([[ 1,  2,  3,  4,  5],\n",
       "       [ 6,  7,  8,  9, 10],\n",
       "       [11, 12, 13, 14, 15],\n",
       "       [16, 17, 18, 19, 20]])"
      ]
     },
     "execution_count": 31,
     "metadata": {},
     "output_type": "execute_result"
    }
   ],
   "source": [
    "yeniMatrix"
   ]
  },
  {
   "cell_type": "code",
   "execution_count": 34,
   "id": "0c92b6ea",
   "metadata": {},
   "outputs": [
    {
     "data": {
      "text/plain": [
       "array([[16, 17, 18, 19, 20],\n",
       "       [11, 12, 13, 14, 15],\n",
       "       [ 1,  2,  3,  4,  5]])"
      ]
     },
     "execution_count": 34,
     "metadata": {},
     "output_type": "execute_result"
    }
   ],
   "source": [
    "yeniMatrix[[3,2,0]]"
   ]
  },
  {
   "cell_type": "markdown",
   "id": "778c76ab",
   "metadata": {},
   "source": [
    "## operasyonlar"
   ]
  },
  {
   "cell_type": "code",
   "execution_count": 37,
   "id": "dacfacaa",
   "metadata": {},
   "outputs": [],
   "source": [
    "yeniBirDizi=np.random.randint(1,100,20)"
   ]
  },
  {
   "cell_type": "code",
   "execution_count": 38,
   "id": "223b6371",
   "metadata": {},
   "outputs": [
    {
     "data": {
      "text/plain": [
       "array([38, 83, 60, 64, 65, 61, 70, 31, 81, 94,  5, 76, 48, 63, 92, 60, 96,\n",
       "       20, 70, 54])"
      ]
     },
     "execution_count": 38,
     "metadata": {},
     "output_type": "execute_result"
    }
   ],
   "source": [
    "yeniBirDizi"
   ]
  },
  {
   "cell_type": "code",
   "execution_count": 43,
   "id": "8082db59",
   "metadata": {},
   "outputs": [
    {
     "data": {
      "text/plain": [
       "array([ True,  True,  True,  True,  True,  True,  True,  True,  True,\n",
       "        True, False,  True,  True,  True,  True,  True,  True, False,\n",
       "        True,  True])"
      ]
     },
     "execution_count": 43,
     "metadata": {},
     "output_type": "execute_result"
    }
   ],
   "source": [
    "sonucDizisi=yeniBirDizi > 24\n",
    "sonucDizisi"
   ]
  },
  {
   "cell_type": "code",
   "execution_count": 44,
   "id": "ad53c5c0",
   "metadata": {},
   "outputs": [
    {
     "data": {
      "text/plain": [
       "array([38, 83, 60, 64, 65, 61, 70, 31, 81, 94, 76, 48, 63, 92, 60, 96, 70,\n",
       "       54])"
      ]
     },
     "execution_count": 44,
     "metadata": {},
     "output_type": "execute_result"
    }
   ],
   "source": [
    "yeniBirDizi[sonucDizisi]"
   ]
  },
  {
   "cell_type": "code",
   "execution_count": 45,
   "id": "a1c2f835",
   "metadata": {},
   "outputs": [
    {
     "data": {
      "text/plain": [
       "array([38, 83, 60, 64, 65, 61, 70, 31, 81, 94, 76, 48, 63, 92, 60, 96, 70,\n",
       "       54])"
      ]
     },
     "execution_count": 45,
     "metadata": {},
     "output_type": "execute_result"
    }
   ],
   "source": [
    "yeniBirDizi[yeniBirDizi>24]"
   ]
  },
  {
   "cell_type": "code",
   "execution_count": 46,
   "id": "002ef418",
   "metadata": {},
   "outputs": [],
   "source": [
    "yeniIkinciDizi=np.random.randint(1,20,5)"
   ]
  },
  {
   "cell_type": "code",
   "execution_count": 47,
   "id": "57fcf8ef",
   "metadata": {},
   "outputs": [
    {
     "data": {
      "text/plain": [
       "array([ 6,  2, 11, 15, 13])"
      ]
     },
     "execution_count": 47,
     "metadata": {},
     "output_type": "execute_result"
    }
   ],
   "source": [
    "yeniIkinciDizi"
   ]
  },
  {
   "cell_type": "code",
   "execution_count": 54,
   "id": "5d9fc104",
   "metadata": {},
   "outputs": [],
   "source": [
    "yeniUcuncuDizi=np.arange(1,6)"
   ]
  },
  {
   "cell_type": "code",
   "execution_count": 55,
   "id": "2e810087",
   "metadata": {},
   "outputs": [
    {
     "data": {
      "text/plain": [
       "array([1, 2, 3, 4, 5])"
      ]
     },
     "execution_count": 55,
     "metadata": {},
     "output_type": "execute_result"
    }
   ],
   "source": [
    "yeniUcuncuDizi"
   ]
  },
  {
   "cell_type": "code",
   "execution_count": 56,
   "id": "f4efaf5e",
   "metadata": {},
   "outputs": [
    {
     "data": {
      "text/plain": [
       "array([ 7,  4, 14, 19, 18])"
      ]
     },
     "execution_count": 56,
     "metadata": {},
     "output_type": "execute_result"
    }
   ],
   "source": [
    "yeniIkinciDizi + yeniUcuncuDizi"
   ]
  },
  {
   "cell_type": "code",
   "execution_count": 57,
   "id": "123a5bd5",
   "metadata": {},
   "outputs": [
    {
     "data": {
      "text/plain": [
       "array([ 6,  4, 33, 60, 65])"
      ]
     },
     "execution_count": 57,
     "metadata": {},
     "output_type": "execute_result"
    }
   ],
   "source": [
    "yeniIkinciDizi * yeniUcuncuDizi"
   ]
  },
  {
   "cell_type": "code",
   "execution_count": 60,
   "id": "72dbe0bb",
   "metadata": {},
   "outputs": [
    {
     "data": {
      "text/plain": [
       "array([2.44948974, 1.41421356, 3.31662479, 3.87298335, 3.60555128])"
      ]
     },
     "execution_count": 60,
     "metadata": {},
     "output_type": "execute_result"
    }
   ],
   "source": [
    "np.sqrt(yeniIkinciDizi)"
   ]
  },
  {
   "cell_type": "code",
   "execution_count": 61,
   "id": "0f9e6e1d",
   "metadata": {},
   "outputs": [
    {
     "data": {
      "text/plain": [
       "5"
      ]
     },
     "execution_count": 61,
     "metadata": {},
     "output_type": "execute_result"
    }
   ],
   "source": [
    "np.max(yeniUcuncuDizi)"
   ]
  },
  {
   "cell_type": "code",
   "execution_count": null,
   "id": "82796ad4",
   "metadata": {},
   "outputs": [],
   "source": []
  }
 ],
 "metadata": {
  "kernelspec": {
   "display_name": "Python 3 (ipykernel)",
   "language": "python",
   "name": "python3"
  },
  "language_info": {
   "codemirror_mode": {
    "name": "ipython",
    "version": 3
   },
   "file_extension": ".py",
   "mimetype": "text/x-python",
   "name": "python",
   "nbconvert_exporter": "python",
   "pygments_lexer": "ipython3",
   "version": "3.9.7"
  }
 },
 "nbformat": 4,
 "nbformat_minor": 5
}
